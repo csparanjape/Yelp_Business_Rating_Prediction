{
 "cells": [
  {
   "cell_type": "markdown",
   "id": "5c70f173",
   "metadata": {},
   "source": [
    "# Yelp busniess ratings prediction\n",
    "\n",
    "This and subsequent notebooks predict the ratings of the business based on the reviews using the dataset provided in [RecSys2013: Yelp Business Rating Prediction](https://www.kaggle.com/c/yelp-recsys-2013/overview) \n",
    "\n",
    "ach observation in this dataset is a review of a particular business by a particular user.\n",
    "\n",
    "The \"stars\" column is the number of stars (1 through 5) assigned by the reviewer to the business. (Higher stars is better.) \n",
    "\n",
    "There is 'votes' colum that has three subcategories as \"cool\", \"useful\" and \"funny\". These are ratings of the 'review' itself from other Yelp users,  and not the rating of the business. column is the number of \"cool\" votes this review received from other Yelp users. \n"
   ]
  },
  {
   "cell_type": "code",
   "execution_count": 19,
   "id": "b7f8a959",
   "metadata": {},
   "outputs": [],
   "source": [
    "import pandas as pd\n",
    "import numpy as np\n",
    "import pickle\n",
    "import matplotlib.pyplot as plt\n",
    "import seaborn as sns\n",
    "\n",
    "from sklearn.model_selection import train_test_split\n",
    "\n",
    "%matplotlib inline\n",
    "fig_params={'legend.fontsize':18,\n",
    "          'axes.labelsize': 18,\n",
    "          'axes.titlesize':20,\n",
    "          'xtick.labelsize':16,\n",
    "          'ytick.labelsize':16,             \n",
    "          'axes.facecolor':'#D9DDD1'}\n",
    "plt.rcParams.update(fig_params)"
   ]
  },
  {
   "cell_type": "code",
   "execution_count": 2,
   "id": "b8f2c1e2",
   "metadata": {},
   "outputs": [],
   "source": [
    "df_review=pd.read_json('./data/yelp-recsys-2013/yelp_training_set/yelp_training_set_review.json',lines=True)"
   ]
  },
  {
   "cell_type": "code",
   "execution_count": 3,
   "id": "526d86aa",
   "metadata": {
    "scrolled": true
   },
   "outputs": [
    {
     "data": {
      "text/html": [
       "<div>\n",
       "<style scoped>\n",
       "    .dataframe tbody tr th:only-of-type {\n",
       "        vertical-align: middle;\n",
       "    }\n",
       "\n",
       "    .dataframe tbody tr th {\n",
       "        vertical-align: top;\n",
       "    }\n",
       "\n",
       "    .dataframe thead th {\n",
       "        text-align: right;\n",
       "    }\n",
       "</style>\n",
       "<table border=\"1\" class=\"dataframe\">\n",
       "  <thead>\n",
       "    <tr style=\"text-align: right;\">\n",
       "      <th></th>\n",
       "      <th>votes</th>\n",
       "      <th>user_id</th>\n",
       "      <th>review_id</th>\n",
       "      <th>stars</th>\n",
       "      <th>date</th>\n",
       "      <th>text</th>\n",
       "      <th>type</th>\n",
       "      <th>business_id</th>\n",
       "    </tr>\n",
       "  </thead>\n",
       "  <tbody>\n",
       "    <tr>\n",
       "      <th>0</th>\n",
       "      <td>{'funny': 0, 'useful': 5, 'cool': 2}</td>\n",
       "      <td>rLtl8ZkDX5vH5nAx9C3q5Q</td>\n",
       "      <td>fWKvX83p0-ka4JS3dc6E5A</td>\n",
       "      <td>5</td>\n",
       "      <td>2011-01-26</td>\n",
       "      <td>My wife took me here on my birthday for breakf...</td>\n",
       "      <td>review</td>\n",
       "      <td>9yKzy9PApeiPPOUJEtnvkg</td>\n",
       "    </tr>\n",
       "    <tr>\n",
       "      <th>1</th>\n",
       "      <td>{'funny': 0, 'useful': 0, 'cool': 0}</td>\n",
       "      <td>0a2KyEL0d3Yb1V6aivbIuQ</td>\n",
       "      <td>IjZ33sJrzXqU-0X6U8NwyA</td>\n",
       "      <td>5</td>\n",
       "      <td>2011-07-27</td>\n",
       "      <td>I have no idea why some people give bad review...</td>\n",
       "      <td>review</td>\n",
       "      <td>ZRJwVLyzEJq1VAihDhYiow</td>\n",
       "    </tr>\n",
       "    <tr>\n",
       "      <th>2</th>\n",
       "      <td>{'funny': 0, 'useful': 1, 'cool': 0}</td>\n",
       "      <td>0hT2KtfLiobPvh6cDC8JQg</td>\n",
       "      <td>IESLBzqUCLdSzSqm0eCSxQ</td>\n",
       "      <td>4</td>\n",
       "      <td>2012-06-14</td>\n",
       "      <td>love the gyro plate. Rice is so good and I als...</td>\n",
       "      <td>review</td>\n",
       "      <td>6oRAC4uyJCsJl1X0WZpVSA</td>\n",
       "    </tr>\n",
       "    <tr>\n",
       "      <th>3</th>\n",
       "      <td>{'funny': 0, 'useful': 2, 'cool': 1}</td>\n",
       "      <td>uZetl9T0NcROGOyFfughhg</td>\n",
       "      <td>G-WvGaISbqqaMHlNnByodA</td>\n",
       "      <td>5</td>\n",
       "      <td>2010-05-27</td>\n",
       "      <td>Rosie, Dakota, and I LOVE Chaparral Dog Park!!...</td>\n",
       "      <td>review</td>\n",
       "      <td>_1QQZuf4zZOyFCvXc0o6Vg</td>\n",
       "    </tr>\n",
       "    <tr>\n",
       "      <th>4</th>\n",
       "      <td>{'funny': 0, 'useful': 0, 'cool': 0}</td>\n",
       "      <td>vYmM4KTsC8ZfQBg-j5MWkw</td>\n",
       "      <td>1uJFq2r5QfJG_6ExMRCaGw</td>\n",
       "      <td>5</td>\n",
       "      <td>2012-01-05</td>\n",
       "      <td>General Manager Scott Petello is a good egg!!!...</td>\n",
       "      <td>review</td>\n",
       "      <td>6ozycU1RpktNG2-1BroVtw</td>\n",
       "    </tr>\n",
       "  </tbody>\n",
       "</table>\n",
       "</div>"
      ],
      "text/plain": [
       "                                  votes                 user_id  \\\n",
       "0  {'funny': 0, 'useful': 5, 'cool': 2}  rLtl8ZkDX5vH5nAx9C3q5Q   \n",
       "1  {'funny': 0, 'useful': 0, 'cool': 0}  0a2KyEL0d3Yb1V6aivbIuQ   \n",
       "2  {'funny': 0, 'useful': 1, 'cool': 0}  0hT2KtfLiobPvh6cDC8JQg   \n",
       "3  {'funny': 0, 'useful': 2, 'cool': 1}  uZetl9T0NcROGOyFfughhg   \n",
       "4  {'funny': 0, 'useful': 0, 'cool': 0}  vYmM4KTsC8ZfQBg-j5MWkw   \n",
       "\n",
       "                review_id  stars       date  \\\n",
       "0  fWKvX83p0-ka4JS3dc6E5A      5 2011-01-26   \n",
       "1  IjZ33sJrzXqU-0X6U8NwyA      5 2011-07-27   \n",
       "2  IESLBzqUCLdSzSqm0eCSxQ      4 2012-06-14   \n",
       "3  G-WvGaISbqqaMHlNnByodA      5 2010-05-27   \n",
       "4  1uJFq2r5QfJG_6ExMRCaGw      5 2012-01-05   \n",
       "\n",
       "                                                text    type  \\\n",
       "0  My wife took me here on my birthday for breakf...  review   \n",
       "1  I have no idea why some people give bad review...  review   \n",
       "2  love the gyro plate. Rice is so good and I als...  review   \n",
       "3  Rosie, Dakota, and I LOVE Chaparral Dog Park!!...  review   \n",
       "4  General Manager Scott Petello is a good egg!!!...  review   \n",
       "\n",
       "              business_id  \n",
       "0  9yKzy9PApeiPPOUJEtnvkg  \n",
       "1  ZRJwVLyzEJq1VAihDhYiow  \n",
       "2  6oRAC4uyJCsJl1X0WZpVSA  \n",
       "3  _1QQZuf4zZOyFCvXc0o6Vg  \n",
       "4  6ozycU1RpktNG2-1BroVtw  "
      ]
     },
     "execution_count": 3,
     "metadata": {},
     "output_type": "execute_result"
    }
   ],
   "source": [
    "df_review.head()"
   ]
  },
  {
   "cell_type": "code",
   "execution_count": 4,
   "id": "57280ce6",
   "metadata": {},
   "outputs": [
    {
     "name": "stdout",
     "output_type": "stream",
     "text": [
      "<class 'pandas.core.frame.DataFrame'>\n",
      "RangeIndex: 229907 entries, 0 to 229906\n",
      "Data columns (total 8 columns):\n",
      " #   Column       Non-Null Count   Dtype         \n",
      "---  ------       --------------   -----         \n",
      " 0   votes        229907 non-null  object        \n",
      " 1   user_id      229907 non-null  object        \n",
      " 2   review_id    229907 non-null  object        \n",
      " 3   stars        229907 non-null  int64         \n",
      " 4   date         229907 non-null  datetime64[ns]\n",
      " 5   text         229907 non-null  object        \n",
      " 6   type         229907 non-null  object        \n",
      " 7   business_id  229907 non-null  object        \n",
      "dtypes: datetime64[ns](1), int64(1), object(6)\n",
      "memory usage: 14.0+ MB\n"
     ]
    }
   ],
   "source": [
    "df_review.info()"
   ]
  },
  {
   "cell_type": "code",
   "execution_count": 5,
   "id": "dd2f7aaf",
   "metadata": {},
   "outputs": [],
   "source": [
    "df_review[['funny','useful','cool']]=df_review['votes'].apply(pd.Series)"
   ]
  },
  {
   "cell_type": "code",
   "execution_count": 6,
   "id": "25939be6",
   "metadata": {},
   "outputs": [],
   "source": [
    "df_review.drop(['votes'],axis=1,inplace=True)"
   ]
  },
  {
   "cell_type": "code",
   "execution_count": 7,
   "id": "2ff1aafb",
   "metadata": {},
   "outputs": [
    {
     "data": {
      "text/html": [
       "<div>\n",
       "<style scoped>\n",
       "    .dataframe tbody tr th:only-of-type {\n",
       "        vertical-align: middle;\n",
       "    }\n",
       "\n",
       "    .dataframe tbody tr th {\n",
       "        vertical-align: top;\n",
       "    }\n",
       "\n",
       "    .dataframe thead th {\n",
       "        text-align: right;\n",
       "    }\n",
       "</style>\n",
       "<table border=\"1\" class=\"dataframe\">\n",
       "  <thead>\n",
       "    <tr style=\"text-align: right;\">\n",
       "      <th></th>\n",
       "      <th>user_id</th>\n",
       "      <th>review_id</th>\n",
       "      <th>stars</th>\n",
       "      <th>date</th>\n",
       "      <th>text</th>\n",
       "      <th>type</th>\n",
       "      <th>business_id</th>\n",
       "      <th>funny</th>\n",
       "      <th>useful</th>\n",
       "      <th>cool</th>\n",
       "    </tr>\n",
       "  </thead>\n",
       "  <tbody>\n",
       "    <tr>\n",
       "      <th>0</th>\n",
       "      <td>rLtl8ZkDX5vH5nAx9C3q5Q</td>\n",
       "      <td>fWKvX83p0-ka4JS3dc6E5A</td>\n",
       "      <td>5</td>\n",
       "      <td>2011-01-26</td>\n",
       "      <td>My wife took me here on my birthday for breakf...</td>\n",
       "      <td>review</td>\n",
       "      <td>9yKzy9PApeiPPOUJEtnvkg</td>\n",
       "      <td>0</td>\n",
       "      <td>5</td>\n",
       "      <td>2</td>\n",
       "    </tr>\n",
       "    <tr>\n",
       "      <th>1</th>\n",
       "      <td>0a2KyEL0d3Yb1V6aivbIuQ</td>\n",
       "      <td>IjZ33sJrzXqU-0X6U8NwyA</td>\n",
       "      <td>5</td>\n",
       "      <td>2011-07-27</td>\n",
       "      <td>I have no idea why some people give bad review...</td>\n",
       "      <td>review</td>\n",
       "      <td>ZRJwVLyzEJq1VAihDhYiow</td>\n",
       "      <td>0</td>\n",
       "      <td>0</td>\n",
       "      <td>0</td>\n",
       "    </tr>\n",
       "    <tr>\n",
       "      <th>2</th>\n",
       "      <td>0hT2KtfLiobPvh6cDC8JQg</td>\n",
       "      <td>IESLBzqUCLdSzSqm0eCSxQ</td>\n",
       "      <td>4</td>\n",
       "      <td>2012-06-14</td>\n",
       "      <td>love the gyro plate. Rice is so good and I als...</td>\n",
       "      <td>review</td>\n",
       "      <td>6oRAC4uyJCsJl1X0WZpVSA</td>\n",
       "      <td>0</td>\n",
       "      <td>1</td>\n",
       "      <td>0</td>\n",
       "    </tr>\n",
       "    <tr>\n",
       "      <th>3</th>\n",
       "      <td>uZetl9T0NcROGOyFfughhg</td>\n",
       "      <td>G-WvGaISbqqaMHlNnByodA</td>\n",
       "      <td>5</td>\n",
       "      <td>2010-05-27</td>\n",
       "      <td>Rosie, Dakota, and I LOVE Chaparral Dog Park!!...</td>\n",
       "      <td>review</td>\n",
       "      <td>_1QQZuf4zZOyFCvXc0o6Vg</td>\n",
       "      <td>0</td>\n",
       "      <td>2</td>\n",
       "      <td>1</td>\n",
       "    </tr>\n",
       "    <tr>\n",
       "      <th>4</th>\n",
       "      <td>vYmM4KTsC8ZfQBg-j5MWkw</td>\n",
       "      <td>1uJFq2r5QfJG_6ExMRCaGw</td>\n",
       "      <td>5</td>\n",
       "      <td>2012-01-05</td>\n",
       "      <td>General Manager Scott Petello is a good egg!!!...</td>\n",
       "      <td>review</td>\n",
       "      <td>6ozycU1RpktNG2-1BroVtw</td>\n",
       "      <td>0</td>\n",
       "      <td>0</td>\n",
       "      <td>0</td>\n",
       "    </tr>\n",
       "  </tbody>\n",
       "</table>\n",
       "</div>"
      ],
      "text/plain": [
       "                  user_id               review_id  stars       date  \\\n",
       "0  rLtl8ZkDX5vH5nAx9C3q5Q  fWKvX83p0-ka4JS3dc6E5A      5 2011-01-26   \n",
       "1  0a2KyEL0d3Yb1V6aivbIuQ  IjZ33sJrzXqU-0X6U8NwyA      5 2011-07-27   \n",
       "2  0hT2KtfLiobPvh6cDC8JQg  IESLBzqUCLdSzSqm0eCSxQ      4 2012-06-14   \n",
       "3  uZetl9T0NcROGOyFfughhg  G-WvGaISbqqaMHlNnByodA      5 2010-05-27   \n",
       "4  vYmM4KTsC8ZfQBg-j5MWkw  1uJFq2r5QfJG_6ExMRCaGw      5 2012-01-05   \n",
       "\n",
       "                                                text    type  \\\n",
       "0  My wife took me here on my birthday for breakf...  review   \n",
       "1  I have no idea why some people give bad review...  review   \n",
       "2  love the gyro plate. Rice is so good and I als...  review   \n",
       "3  Rosie, Dakota, and I LOVE Chaparral Dog Park!!...  review   \n",
       "4  General Manager Scott Petello is a good egg!!!...  review   \n",
       "\n",
       "              business_id  funny  useful  cool  \n",
       "0  9yKzy9PApeiPPOUJEtnvkg      0       5     2  \n",
       "1  ZRJwVLyzEJq1VAihDhYiow      0       0     0  \n",
       "2  6oRAC4uyJCsJl1X0WZpVSA      0       1     0  \n",
       "3  _1QQZuf4zZOyFCvXc0o6Vg      0       2     1  \n",
       "4  6ozycU1RpktNG2-1BroVtw      0       0     0  "
      ]
     },
     "execution_count": 7,
     "metadata": {},
     "output_type": "execute_result"
    }
   ],
   "source": [
    "df_review.head()"
   ]
  },
  {
   "cell_type": "code",
   "execution_count": 8,
   "id": "e0338158",
   "metadata": {},
   "outputs": [
    {
     "name": "stdout",
     "output_type": "stream",
     "text": [
      "<class 'pandas.core.frame.DataFrame'>\n",
      "RangeIndex: 229907 entries, 0 to 229906\n",
      "Data columns (total 10 columns):\n",
      " #   Column       Non-Null Count   Dtype         \n",
      "---  ------       --------------   -----         \n",
      " 0   user_id      229907 non-null  object        \n",
      " 1   review_id    229907 non-null  object        \n",
      " 2   stars        229907 non-null  int64         \n",
      " 3   date         229907 non-null  datetime64[ns]\n",
      " 4   text         229907 non-null  object        \n",
      " 5   type         229907 non-null  object        \n",
      " 6   business_id  229907 non-null  object        \n",
      " 7   funny        229907 non-null  int64         \n",
      " 8   useful       229907 non-null  int64         \n",
      " 9   cool         229907 non-null  int64         \n",
      "dtypes: datetime64[ns](1), int64(4), object(5)\n",
      "memory usage: 17.5+ MB\n"
     ]
    }
   ],
   "source": [
    "df_review.info()"
   ]
  },
  {
   "cell_type": "code",
   "execution_count": 9,
   "id": "3216d679",
   "metadata": {},
   "outputs": [],
   "source": [
    "y=df_review['stars']"
   ]
  },
  {
   "cell_type": "code",
   "execution_count": 10,
   "id": "7fadaf8b",
   "metadata": {},
   "outputs": [],
   "source": [
    "X=df_review.drop(['stars'],axis=1)"
   ]
  },
  {
   "cell_type": "code",
   "execution_count": 11,
   "id": "941b6217",
   "metadata": {},
   "outputs": [
    {
     "data": {
      "text/plain": [
       "0         5\n",
       "1         5\n",
       "2         4\n",
       "3         5\n",
       "4         5\n",
       "         ..\n",
       "229902    2\n",
       "229903    1\n",
       "229904    4\n",
       "229905    3\n",
       "229906    5\n",
       "Name: stars, Length: 229907, dtype: int64"
      ]
     },
     "execution_count": 11,
     "metadata": {},
     "output_type": "execute_result"
    }
   ],
   "source": [
    "y"
   ]
  },
  {
   "cell_type": "code",
   "execution_count": 12,
   "id": "f1fa757b",
   "metadata": {},
   "outputs": [],
   "source": [
    "X_temp,X_test,y_temp,y_test=train_test_split(X,y,test_size=0.2,random_state=40)\n",
    "X_train,X_cv,y_train,y_cv=train_test_split(X_temp,y_temp,test_size=0.2,random_state=101)"
   ]
  },
  {
   "cell_type": "code",
   "execution_count": 13,
   "id": "faf80bed",
   "metadata": {},
   "outputs": [],
   "source": [
    "df_train=pd.concat([X_train,y_train],axis=1)\n",
    "df_val=pd.concat([X_cv,y_cv],axis=1)\n",
    "df_test=pd.concat([X_test,y_test],axis=1)"
   ]
  },
  {
   "cell_type": "code",
   "execution_count": 14,
   "id": "d82d7166",
   "metadata": {},
   "outputs": [
    {
     "name": "stdout",
     "output_type": "stream",
     "text": [
      "<class 'pandas.core.frame.DataFrame'>\n",
      "Int64Index: 147140 entries, 106415 to 216615\n",
      "Data columns (total 10 columns):\n",
      " #   Column       Non-Null Count   Dtype         \n",
      "---  ------       --------------   -----         \n",
      " 0   user_id      147140 non-null  object        \n",
      " 1   review_id    147140 non-null  object        \n",
      " 2   date         147140 non-null  datetime64[ns]\n",
      " 3   text         147140 non-null  object        \n",
      " 4   type         147140 non-null  object        \n",
      " 5   business_id  147140 non-null  object        \n",
      " 6   funny        147140 non-null  int64         \n",
      " 7   useful       147140 non-null  int64         \n",
      " 8   cool         147140 non-null  int64         \n",
      " 9   stars        147140 non-null  int64         \n",
      "dtypes: datetime64[ns](1), int64(4), object(5)\n",
      "memory usage: 12.3+ MB\n"
     ]
    }
   ],
   "source": [
    "df_train.info()"
   ]
  },
  {
   "cell_type": "code",
   "execution_count": 20,
   "id": "f918a6b6",
   "metadata": {},
   "outputs": [],
   "source": [
    "pickle.dump(df_train,open('./data/train.pkl','wb'))\n",
    "pickle.dump(df_val,open('./data/val.pkl','wb'))\n",
    "pickle.dump(df_test,open('./data/test.pkl','wb'))"
   ]
  },
  {
   "cell_type": "code",
   "execution_count": null,
   "id": "e73a14cd",
   "metadata": {},
   "outputs": [],
   "source": []
  }
 ],
 "metadata": {
  "kernelspec": {
   "display_name": "Python 3",
   "language": "python",
   "name": "python3"
  },
  "language_info": {
   "codemirror_mode": {
    "name": "ipython",
    "version": 3
   },
   "file_extension": ".py",
   "mimetype": "text/x-python",
   "name": "python",
   "nbconvert_exporter": "python",
   "pygments_lexer": "ipython3",
   "version": "3.8.10"
  }
 },
 "nbformat": 4,
 "nbformat_minor": 5
}
